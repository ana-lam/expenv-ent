{
 "cells": [
  {
   "cell_type": "code",
   "execution_count": 1,
   "metadata": {},
   "outputs": [],
   "source": [
    "import pandas\n",
    "import geopandas\n",
    "import geopy"
   ]
  },
  {
   "cell_type": "code",
   "execution_count": 2,
   "metadata": {},
   "outputs": [],
   "source": [
    "gdf = geopandas.read_file(\"cd.geojson\")\n",
    "pdf = pandas.read_csv(\"fineparticulatematter.csv\", header=6)\n",
    "\n",
    "pdf = pdf.rename(columns={\"Geography ID\": \"BoroCD\"})\n",
    "pdf = pdf.rename(columns={\"Data Value\": \"DataValue\"})"
   ]
  },
  {
   "cell_type": "code",
   "execution_count": 3,
   "metadata": {},
   "outputs": [],
   "source": [
    "joined_gdf = gdf.merge(pdf, on=\"BoroCD\")\n",
    "#joined_gdf.to_file(\"pm25.geojson\", driver=\"GeoJSON\")"
   ]
  },
  {
   "cell_type": "code",
   "execution_count": 4,
   "metadata": {},
   "outputs": [],
   "source": [
    "gdf = geopandas.read_file(\"cd.geojson\")\n",
    "pdf = pandas.read_csv(\"ozone.csv\", header=6)\n",
    "\n",
    "pdf = pdf.rename(columns={\"Geography ID\": \"BoroCD\"})\n",
    "pdf = pdf.rename(columns={\"Data Value\": \"DataValue\"})"
   ]
  },
  {
   "cell_type": "code",
   "execution_count": 5,
   "metadata": {},
   "outputs": [],
   "source": [
    "joined_gdf = gdf.merge(pdf, on=\"BoroCD\")\n",
    "#joined_gdf.to_file(\"ozone.geojson\", driver=\"GeoJSON\")"
   ]
  },
  {
   "cell_type": "code",
   "execution_count": 6,
   "metadata": {},
   "outputs": [],
   "source": [
    "gdf = geopandas.read_file(\"cd.geojson\")\n",
    "pdf = pandas.read_csv(\"in_near_poverty_census.csv\")\n",
    "\n",
    "pdf = pdf.rename(columns={\"Geography ID\": \"BoroCD\"})\n",
    "pdf = pdf.rename(columns={\"2013-2018\": \"DataValue\"})"
   ]
  },
  {
   "cell_type": "code",
   "execution_count": 7,
   "metadata": {},
   "outputs": [],
   "source": [
    "joined_gdf = gdf.merge(pdf, on=\"BoroCD\")\n",
    "joined_gdf.to_file(\"in_near_poverty_census.geojson\", driver=\"GeoJSON\")"
   ]
  }
 ],
 "metadata": {
  "kernelspec": {
   "display_name": "Python 3",
   "language": "python",
   "name": "python3"
  },
  "language_info": {
   "codemirror_mode": {
    "name": "ipython",
    "version": 3
   },
   "file_extension": ".py",
   "mimetype": "text/x-python",
   "name": "python",
   "nbconvert_exporter": "python",
   "pygments_lexer": "ipython3",
   "version": "3.9.1"
  }
 },
 "nbformat": 4,
 "nbformat_minor": 4
}
